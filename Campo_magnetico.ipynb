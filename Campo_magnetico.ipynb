{
 "cells": [
  {
   "cell_type": "markdown",
   "metadata": {},
   "source": [
    "# Fundamentos Físicos de la Informática\n",
    "## Actividad 1: Partícula en un ampo magnético\n",
    "\n",
    "Integrantes del equipo:   \n",
    "Juan Manuel Fernández Núñez     \n",
    "Fernando Mendieta Ovejero    \n",
    "Henoch Schmohe  \n",
    "Daniela Alejandra Díaz Ruíz  \n",
    "\n",
    "* * *\n"
   ]
  },
  {
   "cell_type": "markdown",
   "metadata": {},
   "source": [
    "## Experimento:\n",
    "# Partícula en un campo magnético:\n",
    "Un electrón con una capacidad de trabajo de $72090\\times10^{-19}\\, \\mathrm{J}$ orbita de manera perpendicular a un campo magnético de $3250\\, \\mathrm{G}$. ¿Cuál es el radio de la órbita? ¿Y su frecuencia y periodo angular? ¿A qué velocidad va? Resuelve el mismo ejercicio para un antineutrón.\n"
   ]
  },
  {
   "cell_type": "code",
   "execution_count": 2,
   "metadata": {},
   "outputs": [
    {
     "name": "stdout",
     "output_type": "stream",
     "text": [
      "El radio es igual a:  0.0022*meter\n",
      "La velocidad es igual a:  1.27e+8*meter/second\n",
      "La frecuencia angular es igual a:  5.9e+10*radian/second\n",
      "El periodo es igual a:  1.1e-10*second\n"
     ]
    }
   ],
   "source": [
    "from sympy.physics.units import Quantity\n",
    "Gs = Quantity(\"Gauss\")\n",
    "from sympy.physics.units.systems import SI\n",
    "from sympy.physics.units import magnetic_flux_density\n",
    "SI.set_quantity_dimension(Gs, magnetic_flux_density)\n",
    "from sympy.physics.units import tesla\n",
    "SI.set_quantity_scale_factor(Gs, 1E-4*tesla)\n",
    "B = 3250 * Gs\n",
    "from sympy.physics.units import joule\n",
    "E = 72090E-19 * joule\n",
    "from sympy import solve, symbols, pi, Eq\n",
    "r = symbols(\"r_giro\")\n",
    "v = symbols(\"v_giro\")\n",
    "from sympy.physics.units import electronvolt\n",
    "from sympy.physics.units import volt\n",
    "q = 1*electronvolt/volt\n",
    "from sympy.physics.units import speed_of_light as c\n",
    "m = 0.5 * 1E6 * electronvolt / c**2\n",
    "eq_lorentz = Eq(q*v*B, (m*v**2)/r)\n",
    "eq_ecinetica = Eq(E, 0.5*m*v**2)\n",
    "solucion_v_r = solve([eq_ecinetica, eq_lorentz], [v, r])[1]\n",
    "solucion_v = solve(eq_ecinetica, v)[1]\n",
    "velocidad = solucion_v\n",
    "radio = solucion_v_r[1]\n",
    "frecuencia_angular = velocidad/radio\n",
    "periodo = (2*pi)/frecuencia_angular\n",
    "from sympy.physics.units import convert_to\n",
    "from sympy.physics.units import meter\n",
    "from sympy.physics.units import second\n",
    "from sympy.physics.units import radian\n",
    "radio = convert_to(radio, [meter]).n(2)\n",
    "velocidad = convert_to(velocidad, [meter/second]).n(3)\n",
    "frecuencia_angular = convert_to(frecuencia_angular, [radian/second]).n(2)\n",
    "periodo = convert_to(periodo,[second]).n(2)\n",
    "\n",
    "print(\"El radio es igual a: \", radio)\n",
    "print(\"La velocidad es igual a: \", velocidad)\n",
    "print(\"La frecuencia angular es igual a: \",frecuencia_angular)\n",
    "print(\"El periodo es igual a: \",periodo)"
   ]
  },
  {
   "cell_type": "markdown",
   "metadata": {
    "nteract": {
     "transient": {
      "deleting": false
     }
    }
   },
   "source": [
    "## Campo magnético y el antineutrón\n",
    "\n",
    "Normalmente las partículas tienen su anti partícula que poseen las mismas características pero carga electrica opuesta, por ejemplo:\n",
    "\n",
    "- electrón (carga negativa) - antielectrón (carga positiva)\n",
    "- protón (carga positiva) - antoprotón (carga negativa)\n",
    "- etc.\n",
    "\n",
    "¿Pero que pasa con el neutrón que tiene carga neutra?\n",
    "\n",
    "El neturón tiene carga neutra y el antineutrón también tien carga neutra, la diferencia está en que el neutrón esta formado por 2 quarks down y un quark up; el antineutrón esta formado por 2 antiquarks down y un atiquark up. Es decir, que su carga es la misma (neutra) pero el neutron esta formado por quarks y el antineutron por antiquarks\n",
    "\n",
    "\n",
    "Dicho esto, la propiedad necesaria para que una partícula afecte el campo magnético es la carga eléctrica y el antineutrón no cuenta con esa propiedad."
   ]
  },
  {
   "cell_type": "markdown",
   "metadata": {},
   "source": [
    "## Ejercicio\n",
    "### En el código anterior: ¿por qué indicamos que las dimensiones de la unidad gauss (definida por nosotros) son de densidad de flujo magnético (magnetic_flux_density)? \n",
    "### ¿Por qué la carga del electrón se ha definido como electronvolt/volt?\n",
    "\n",
    " -   Indicamos que las dimensiones de la unidad gauss son de densidad del flujo magnético porque \n",
    "    por un lado el flujo magnetico está definido por el conjunto de líneas de fuerza que atraviesan la superficie de un cuerpo sometido a la acción de un campo magnético y por el otro la densidad de ese cuerpo que es definido por el area. Por lo tanto la densidad del flujo magnético son las líneas de fuerza que atraviesan la superficie sometida a la acción de un campo magnético por unidad de area. \n",
    "    \n",
    "    Eso significa que la densidad del flujo magnético es:\n",
    "    $$\n",
    "    \\require{cancel}\\mathrm{\\Big[B\\Big] = \\bigg[\\frac{B\\cdot A}{A}\\bigg] = \\frac{kg\\cdot \\cancel{m^2}}{A\\cdot s^2\\cdot \\cancel{m^2}} = \\frac{kg}{A\\cdot s^2} = T\\ \\ (Tesla)}\n",
    "    $$\n",
    "-   La carga del electrón se ha definido como electronvolt/volt porque en física, el \n",
    "    electrón voltio (símbolo eV; también escrito electronvoltio) es una unidad de \n",
    "    energía equivalente a aproximadamente $1.602\\times10^{-19}\\cdot \\mathrm{J}$ (unidad de SI Julios). \n",
    "    Por definición, es la cantidad de energía ganada por la carga de un solo electrón \n",
    "    movido a través de una diferencia de potencial eléctrico de un voltio. Por lo tanto el electrón voltio / voltio es nada más que la energía ganada por la carga de un electrón movido a travésde una diferencia de potencial eléctrico de un voltio por unidad de voltio. \n",
    "\n",
    "    Eso significa que el electrón voltio/voltio es:\n",
    "    $$\n",
    "    \\mathrm{\\Big[Q\\Big] = \\bigg[\\frac{Q\\cdot U}{U}\\bigg] = \\Bigg[\\frac{I\\cdot T\\cdot \\cancel{\\Big(\\frac{M\\cdot L^2}{I\\cdot T^3}\\Big)}}{\\cancel{\\frac{M\\cdot L^2}{I\\cdot T^3}}}\\Bigg] = A\\cdot s = C\\ \\ (Coulomb)}\n",
    "    $$\n",
    "\n",
    "Eso se puede comprobar con el siguiente código:\n"
   ]
  },
  {
   "cell_type": "markdown",
   "metadata": {},
   "source": [
    "Importamos todo lo necesario para la comprobación:"
   ]
  },
  {
   "cell_type": "code",
   "execution_count": 3,
   "metadata": {},
   "outputs": [],
   "source": [
    "from sympy.physics.units import magnetic_density\n",
    "from sympy.physics.units import magnetic_flux\n",
    "from sympy.physics.units import length\n",
    "from sympy.physics.units.systems.si import dimsys_SI"
   ]
  },
  {
   "cell_type": "markdown",
   "metadata": {},
   "source": [
    "Ahora preguntamos cual es la dimensión del tesla (la unidad del campo magnético):"
   ]
  },
  {
   "cell_type": "code",
   "execution_count": 4,
   "metadata": {},
   "outputs": [
    {
     "data": {
      "text/latex": [
       "$\\displaystyle Dimension\\left(magnetic_{density}, B\\right)$"
      ],
      "text/plain": [
       "Dimension(magnetic_density, B)"
      ]
     },
     "execution_count": 4,
     "metadata": {},
     "output_type": "execute_result"
    }
   ],
   "source": [
    "\n",
    "dimsys_SI.get_quantity_dimension(tesla)"
   ]
  },
  {
   "cell_type": "markdown",
   "metadata": {},
   "source": [
    "Nos dice que tiene dimensión de \"magnetic density\". Significa que tiene dimensiones de densidad magnetica.\n",
    "\n",
    "Por lo tanto le pedimos ahora que nos muestre, por qué está formada esa dimensión:"
   ]
  },
  {
   "cell_type": "code",
   "execution_count": 5,
   "metadata": {},
   "outputs": [
    {
     "data": {
      "text/plain": [
       "{'mass': 1, 'current': -1, 'time': -2}"
      ]
     },
     "execution_count": 5,
     "metadata": {},
     "output_type": "execute_result"
    }
   ],
   "source": [
    "\n",
    "dimsys_SI.get_dimensional_dependencies(magnetic_density)"
   ]
  },
  {
   "cell_type": "markdown",
   "metadata": {},
   "source": [
    "Podemos deducir de la respuesta lo siguiente:\n",
    "$$\n",
    "\\mathrm{\\Big[B\\Big] = \\bigg[\\frac{M}{I\\cdot T^2}\\bigg]}\n",
    "$$\n",
    "Ahora debemos comprobar que \"magnetic_flux_density\" (densidad del flujo magnético), tiene las mismas dimensiones.\n",
    "\n",
    "Para ello le pediremos que nos devuelva por pantalla las dimensionesde la densidad del flujo magnético:"
   ]
  },
  {
   "cell_type": "code",
   "execution_count": 6,
   "metadata": {},
   "outputs": [
    {
     "data": {
      "text/plain": [
       "{'mass': 1, 'current': -1, 'time': -2}"
      ]
     },
     "execution_count": 6,
     "metadata": {},
     "output_type": "execute_result"
    }
   ],
   "source": [
    "\n",
    "dimsys_SI.get_dimensional_dependencies(magnetic_flux_density)"
   ]
  },
  {
   "cell_type": "markdown",
   "metadata": {},
   "source": [
    "Vemos que si, también tiene las mismas dimensiones que el campo magnético, ya que la densidad del flujo magnético no es otra cosa que el flujo magnétio $\\Big(B\\cdot A\\Big)$ dividido por el area $\\Big(A\\Big)$\n",
    "\n",
    "Sus dimensiones son:\n",
    "$$\n",
    "\\mathrm{Densidad\\, del\\, flujo\\, magnético =\\bigg[\\frac{B\\,\\cdot \\cancel{L^2}}{\\cancel{L^2}}\\bigg] = \\Big[B\\Big]}\n",
    "$$\n",
    "Como podemos ver con el siguiente código:\n"
   ]
  },
  {
   "cell_type": "code",
   "execution_count": 7,
   "metadata": {},
   "outputs": [
    {
     "data": {
      "text/plain": [
       "{'mass': 1, 'current': -1, 'time': -2}"
      ]
     },
     "execution_count": 7,
     "metadata": {},
     "output_type": "execute_result"
    }
   ],
   "source": [
    "\n",
    "dimsys_SI.get_dimensional_dependencies(magnetic_flux/length**2)"
   ]
  },
  {
   "cell_type": "markdown",
   "metadata": {},
   "source": [
    "Vamos ahora a comprobar las unidades del electronvolt/volt\n",
    "\n",
    "Importamos de nuevo las cosas necesarias de sympy para visualizar los resultados:\n"
   ]
  },
  {
   "cell_type": "code",
   "execution_count": 8,
   "metadata": {},
   "outputs": [],
   "source": [
    "from sympy.physics.units import coulomb\n",
    "from sympy.physics.units import energy\n",
    "from sympy.physics.units import charge\n",
    "from sympy.physics.units import voltage"
   ]
  },
  {
   "cell_type": "markdown",
   "metadata": {},
   "source": [
    "A continuación sacaremos la dimensión del coulomb, la unidad del electrón en el SI:"
   ]
  },
  {
   "cell_type": "code",
   "execution_count": 9,
   "metadata": {},
   "outputs": [
    {
     "data": {
      "text/latex": [
       "$\\displaystyle Dimension\\left(charge, Q\\right)$"
      ],
      "text/plain": [
       "Dimension(charge, Q)"
      ]
     },
     "execution_count": 9,
     "metadata": {},
     "output_type": "execute_result"
    }
   ],
   "source": [
    "\n",
    "dimsys_SI.get_quantity_dimension(coulomb)"
   ]
  },
  {
   "cell_type": "markdown",
   "metadata": {},
   "source": [
    "Vemos que tiene dimensiones de carga por lo que comprobaremos por qué dimensiones está compuesta ella:"
   ]
  },
  {
   "cell_type": "code",
   "execution_count": 10,
   "metadata": {},
   "outputs": [
    {
     "data": {
      "text/plain": [
       "{'current': 1, 'time': 1}"
      ]
     },
     "execution_count": 10,
     "metadata": {},
     "output_type": "execute_result"
    }
   ],
   "source": [
    "\n",
    "dimsys_SI.get_dimensional_dependencies(charge)"
   ]
  },
  {
   "cell_type": "markdown",
   "metadata": {},
   "source": [
    "Vemos que debe de tener las dimensiones de la corriente ($A$) y del tiempo ($s$):\n",
    "$$\n",
    "\\mathrm{\\Big[Q\\Big] = \\Big[I\\cdot T\\Big]}\n",
    "$$\n",
    "\n",
    "Lo que significa que la unidad del electron \"electronvolt/volt\", debe tener las mismas. \n",
    "\n",
    "Primero averiguamos la dimensión del voltaje:"
   ]
  },
  {
   "cell_type": "code",
   "execution_count": 11,
   "metadata": {},
   "outputs": [
    {
     "data": {
      "text/latex": [
       "$\\displaystyle Dimension\\left(voltage, U\\right)$"
      ],
      "text/plain": [
       "Dimension(voltage, U)"
      ]
     },
     "execution_count": 11,
     "metadata": {},
     "output_type": "execute_result"
    }
   ],
   "source": [
    "dimsys_SI.get_quantity_dimension(volt)"
   ]
  },
  {
   "cell_type": "code",
   "execution_count": 12,
   "metadata": {},
   "outputs": [
    {
     "data": {
      "text/plain": [
       "{'mass': 1, 'length': 2, 'current': -1, 'time': -3}"
      ]
     },
     "execution_count": 12,
     "metadata": {},
     "output_type": "execute_result"
    }
   ],
   "source": [
    "dimsys_SI.get_dimensional_dependencies(voltage)"
   ]
  },
  {
   "cell_type": "markdown",
   "metadata": {},
   "source": [
    "Vemos que debe de tener las dimensiones de:\n",
    "$$\n",
    "\\mathrm{\\Big[U\\Big] = \\bigg[\\frac{M\\cdot L^2}{I\\cdot T^3}\\bigg]}\n",
    "$$"
   ]
  },
  {
   "cell_type": "markdown",
   "metadata": {},
   "source": [
    "Significa que el electronvolt es carga por voltaje, ya que es una unidad de energía.\n",
    "\n",
    "Lo comprobaremos, sabiendo que $\\mathrm{\\Big[Q\\cdot U\\Big] = \\Big[E\\Big]}$:"
   ]
  },
  {
   "cell_type": "code",
   "execution_count": 13,
   "metadata": {},
   "outputs": [
    {
     "data": {
      "text/plain": [
       "{'time': -2, 'mass': 1, 'length': 2}"
      ]
     },
     "execution_count": 13,
     "metadata": {},
     "output_type": "execute_result"
    }
   ],
   "source": [
    "dimsys_SI.get_dimensional_dependencies(charge*voltage)"
   ]
  },
  {
   "cell_type": "code",
   "execution_count": 14,
   "metadata": {},
   "outputs": [
    {
     "data": {
      "text/plain": [
       "{'mass': 1, 'length': 2, 'time': -2}"
      ]
     },
     "execution_count": 14,
     "metadata": {},
     "output_type": "execute_result"
    }
   ],
   "source": [
    "dimsys_SI.get_dimensional_dependencies(energy)"
   ]
  },
  {
   "cell_type": "code",
   "execution_count": null,
   "metadata": {},
   "outputs": [],
   "source": []
  },
  {
   "cell_type": "markdown",
   "metadata": {},
   "source": [
    "Vemos que electronvolt es una unidad de energía:\n",
    "$$\n",
    "\\mathrm{\\Big[Q\\cdot U\\Big] = \\bigg[\\frac{M\\cdot L^2}{T^2}\\bigg] = \\Big[E\\Big]}\n",
    "$$"
   ]
  },
  {
   "cell_type": "markdown",
   "metadata": {},
   "source": [
    "La unidad \"electrón voltio / voltio\" está compuesta por la energía dividida entre la tensión de tal forma que nos da la dimensión de la carga $\\Big(Q\\Big)$:\n",
    "\n",
    "$$\n",
    "\\mathrm{\\bigg[\\frac{E}{U}\\bigg] = \\Big[Q\\Big]}\n",
    "$$"
   ]
  },
  {
   "cell_type": "markdown",
   "metadata": {},
   "source": [
    "Significa si multiplicamos sus dimensiones como explicado nos debe salir la dimensión de carga:"
   ]
  },
  {
   "cell_type": "code",
   "execution_count": 17,
   "metadata": {},
   "outputs": [
    {
     "data": {
      "text/plain": [
       "{'time': 1, 'current': 1}"
      ]
     },
     "execution_count": 17,
     "metadata": {},
     "output_type": "execute_result"
    }
   ],
   "source": [
    "dimsys_SI.get_dimensional_dependencies(energy/voltage)"
   ]
  },
  {
   "cell_type": "markdown",
   "metadata": {},
   "source": [
    "Y como vimos previemente la carga tiene las siguientes dimensiones:\n",
    "$$\n",
    "\\mathrm{\\Big[Q\\Big] = \\Big[I\\cdot T\\Big]}\n",
    "$$\n",
    "Podemos concluir que un electrón voltio/voltio equivale a la unidad de la carga, la propiedad del electrón.\n",
    "\n",
    "Además se puede añadir que 1$\\ \\mathrm{eV} = 1.6\\times 10^{-19}\\ \\mathrm{J} = 1.6\\times 10^{-19}\\ \\mathrm{\\frac{kg\\,m^2}{s^2}}$.\n"
   ]
  }
 ],
 "metadata": {
  "kernelspec": {
   "display_name": "Python 3",
   "language": "python",
   "name": "python3"
  },
  "language_info": {
   "codemirror_mode": {
    "name": "ipython",
    "version": 3
   },
   "file_extension": ".py",
   "mimetype": "text/x-python",
   "name": "python",
   "nbconvert_exporter": "python",
   "pygments_lexer": "ipython3",
   "version": "3.7.9"
  },
  "nteract": {
   "version": "0.26.0"
  }
 },
 "nbformat": 4,
 "nbformat_minor": 2
}